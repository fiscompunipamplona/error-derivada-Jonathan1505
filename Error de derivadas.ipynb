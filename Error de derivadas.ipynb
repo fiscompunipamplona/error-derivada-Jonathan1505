{
 "cells": [
  {
   "cell_type": "markdown",
   "metadata": {},
   "source": [
    "ERROR DE DERIVADAS\n",
    "Nombre:Jonthan Andres Mercado Chavarria\n",
    "Codigo: 1102854439\n",
    "Partimo de la funcion incial fx=x(x-1), resolviendo por limites de derivadas\n",
    "Haciendo las operaciones para el limite  nos quedamos con la siguiente expresión  lim δ→0 (δ+2x-1) \n",
    "La variable δ la indicare con la letra j, con los datos dado x=1,δ= 1e-2, 1e-4, 1e-6, 1e-8, 1e-10, 1e-12, 1e-14\n"
   ]
  },
  {
   "cell_type": "code",
   "execution_count": 1,
   "metadata": {},
   "outputs": [
    {
     "name": "stdout",
     "output_type": "stream",
     "text": [
      "\n",
      " \tLos valores computacionales en una lista son:\t\n",
      " [1.0099999999999998, 1.0001000000000002, 1.0000010000000001, 1.00000001, 1.0000000001, 1.000000000001, 1.0000000000000102]\n",
      "\n",
      " \tLos valores analiticos en forma de lista  son : \t \n",
      " [1.01, 1.0001, 1.000001, 1.00000001, 1, 1, 1]\n",
      "El valor del primer error es:  1.0000000000000230926\n",
      "El valor del segundo error es:  0.0000000000000222022\n",
      "El valor del tercer error es:  0.0000000000000222044\n",
      "El valor del cuarto error es:  0.0000000000000000000\n",
      "El valor del quinto  error es:  0.0000000100000008274\n",
      "El valor del sexto  error es:  0.0000000001000088901\n",
      "El valor del septimo error es:  0.0000000000010214052\n"
     ]
    }
   ],
   "source": [
    "def funcion():\n",
    "    a=[1e-2, 1e-4, 1e-6, 1e-8, 1e-10, 1e-12, 1e-14] # Declaro  los valores de δ en una lista  llamada a:\n",
    "    h=[]# Declaro una lista vacia para llenar los valores del calculo computacional \n",
    "    for j in a:\n",
    "        x=1\n",
    "        f=j+2*(x)-1\n",
    "        h.append(f)\n",
    "        \n",
    "    return(h) \n",
    "\n",
    "funcion()# Aqui encontraremos la lista de los valores computacionales          \n",
    "d=funcion()\n",
    "print(\"\\n \\tLos valores computacionales en una lista son:\\t\\n\", funcion())    \n",
    "s=[1.01, 1.0001, 1.000001, 1.00000001, 1, 1, 1]\n",
    "print(\"\\n \\tLos valores analiticos en forma de lista  son : \\t \\n\", s)# impresion de la lista de valores analiticos\n",
    "#calculo del porcentaje de error por la formula general que es err= ((valoranalitico- valorcomp)/valoranalitico)*100\n",
    "#Aqui lo haremos esta operacion de error  para cada elemento de la lista  de los valores analiticos y computacional \n",
    "m1=abs((s[0]-d[0]/s[0])*100)\n",
    "print(\"El valor del primer error es: \",\"{0:.19f}\".format(m1))\n",
    "m2=abs(((s[1]-d[1])/s[1])*100)\n",
    "print(\"El valor del segundo error es: \",\"{0:.19f}\".format(m2))\n",
    "m3=abs(((s[2]-d[2])/s[2])*100)\n",
    "print(\"El valor del tercer error es: \",\"{0:.19f}\".format(m3))\n",
    "m4=abs(((s[3]-d[3])/s[3])*100)\n",
    "print(\"El valor del cuarto error es: \",\"{0:.19f}\".format(m4))\n",
    "m5=abs(((s[4]-d[4])/s[4])*100)\n",
    "print(\"El valor del quinto  error es: \",\"{0:.19f}\".format(m5))\n",
    "m6=abs(((s[5]-d[5])/s[5])*100)\n",
    "print(\"El valor del sexto  error es: \",\"{0:.19f}\".format(m6))\n",
    "m7=abs(((s[6]-d[6])/s[6])*100)\n",
    "print(\"El valor del septimo error es: \",\"{0:.19f}\".format(m7))\n"
   ]
  },
  {
   "cell_type": "code",
   "execution_count": null,
   "metadata": {},
   "outputs": [],
   "source": []
  }
 ],
 "metadata": {
  "kernelspec": {
   "display_name": "Python 3",
   "language": "python",
   "name": "python3"
  },
  "language_info": {
   "codemirror_mode": {
    "name": "ipython",
    "version": 3
   },
   "file_extension": ".py",
   "mimetype": "text/x-python",
   "name": "python",
   "nbconvert_exporter": "python",
   "pygments_lexer": "ipython3",
   "version": "3.7.3"
  }
 },
 "nbformat": 4,
 "nbformat_minor": 2
}
